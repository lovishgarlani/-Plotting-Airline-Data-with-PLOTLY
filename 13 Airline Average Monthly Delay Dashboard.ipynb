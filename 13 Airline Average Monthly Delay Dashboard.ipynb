{
 "cells": [
  {
   "cell_type": "markdown",
   "metadata": {},
   "source": [
    "## Dash Interactivity : Airline Average Monthly Delay Dashboard"
   ]
  },
  {
   "cell_type": "markdown",
   "metadata": {},
   "source": [
    "Let's extract the average monthly arrival delay time and see how it changes over the year. The year range is from 2010 to 2020."
   ]
  },
  {
   "cell_type": "code",
   "execution_count": 1,
   "metadata": {},
   "outputs": [],
   "source": [
    "import pandas as pd\n",
    "import plotly.graph_objects as go\n",
    "import plotly.express as px\n",
    "import dash\n",
    "from dash import dcc\n",
    "from dash import html\n",
    "from dash.dependencies import Input, Output"
   ]
  },
  {
   "cell_type": "code",
   "execution_count": 2,
   "metadata": {},
   "outputs": [],
   "source": [
    "airline_data =  pd.read_csv('Airline_Data.csv')"
   ]
  },
  {
   "cell_type": "code",
   "execution_count": 3,
   "metadata": {},
   "outputs": [
    {
     "data": {
      "text/html": [
       "\n",
       "        <iframe\n",
       "            width=\"100%\"\n",
       "            height=\"650\"\n",
       "            src=\"http://127.0.0.1:8050/\"\n",
       "            frameborder=\"0\"\n",
       "            allowfullscreen\n",
       "            \n",
       "        ></iframe>\n",
       "        "
      ],
      "text/plain": [
       "<IPython.lib.display.IFrame at 0x1d5375fae10>"
      ]
     },
     "metadata": {},
     "output_type": "display_data"
    }
   ],
   "source": [
    "# create a Dash Application layout\n",
    "app = dash.Dash(__name__)\n",
    "\n",
    "app.layout = html.Div(children= [html.H1('Total number of flights to the destination state split by reporting air',\n",
    "                                         style ={'textAlign': 'center', 'color': 'cornsilk', 'font-size': 35}),\n",
    "                                html.Div([\"Input Year:\", dcc.Input(id= 'input-year', value ='2010', \n",
    "                                type ='number', style ={'height' :'50px', 'font-size': 20}),],\n",
    "                                style ={'font-size': 25, 'color': 'lavender'}),\n",
    "                                html.Br(),\n",
    "                                html.Br(),\n",
    "                                html.Div(dcc.Graph(id= 'bar-plot')),\n",
    "                                 ])\n",
    "# add callback decorator\n",
    "@app.callback( Output(component_id='bar-plot', component_property='figure'),\n",
    "              Input(component_id= 'input-year', component_property='value'))\n",
    "\n",
    "def get_graph(entered_year):\n",
    "    df = airline_data[airline_data['Year']== int(entered_year)]\n",
    "    bar_data = df.groupby('DestState')['Flights'].sum().reset_index()\n",
    "    fig =px.bar(bar_data, x ='DestState', y ='Flights', \n",
    "                title ='Total number of flights to the destination state split by reporting airline',\n",
    "                color= bar_data['DestState'])\n",
    "    fig.update_layout(title='Flights to Destination State', xaxis_title='DestState', yaxis_title='Flights')\n",
    "    return fig \n",
    "\n",
    "\n",
    "# run the app\n",
    "if __name__ == '__main__':\n",
    "    app.run_server()"
   ]
  }
 ],
 "metadata": {
  "kernelspec": {
   "display_name": "Python 3",
   "language": "python",
   "name": "python3"
  },
  "language_info": {
   "codemirror_mode": {
    "name": "ipython",
    "version": 3
   },
   "file_extension": ".py",
   "mimetype": "text/x-python",
   "name": "python",
   "nbconvert_exporter": "python",
   "pygments_lexer": "ipython3",
   "version": "3.12.6"
  }
 },
 "nbformat": 4,
 "nbformat_minor": 2
}
