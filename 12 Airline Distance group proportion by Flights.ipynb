{
 "cells": [
  {
   "cell_type": "markdown",
   "metadata": {},
   "source": [
    "## Airline Dashboard Application"
   ]
  },
  {
   "cell_type": "markdown",
   "metadata": {},
   "source": [
    "### TASK 1 - Data Preparation\n",
    "Let’s start with\n",
    "\n",
    "Importing necessary libraries,\n",
    "Reading and sampling 500 random data points,\n",
    "Get the chart ready"
   ]
  },
  {
   "cell_type": "code",
   "execution_count": 1,
   "metadata": {},
   "outputs": [],
   "source": [
    "import pandas as pd\n",
    "import plotly.express as px\n",
    "import dash\n",
    "from dash import dcc\n",
    "from dash import html\n",
    "\n",
    "# Read the airline data into pandas dataframe\n",
    "airline_data =  pd.read_csv('https://cf-courses-data.s3.us.cloud-object-storage.appdomain.cloud/IBMDeveloperSkillsNetwork-DV0101EN-SkillsNetwork/Data%20Files/airline_data.csv', \n",
    "                            encoding = \"ISO-8859-1\",\n",
    "                            dtype={'Div1Airport': str, 'Div1TailNum': str, \n",
    "                                   'Div2Airport': str, 'Div2TailNum': str})\n",
    "\n",
    "# Randomly sample 500 data points. Setting the random state to be 42 so that we get same result.\n",
    "data = airline_data.sample(n=500, random_state=42)\n",
    "\n",
    "# Pie Chart Creation\n",
    "fig = px.pie(data, values ='Flights', names ='DistanceGroup',\n",
    "             title =\"Distance group proportion by Flights\")"
   ]
  },
  {
   "cell_type": "markdown",
   "metadata": {},
   "source": [
    "### TASK 2 - Create dash application and get the layout skeleton\n",
    "\n",
    "Next, we create a skeleton for our dash application. Our dashboard application has three components as seen before:\n",
    "\n",
    "Title of the application,\n",
    "Description of the application,\n",
    "Chart conveying the proportion of distance group by month,\n",
    "Mapping to the respective Dash HTML tags:\n",
    "\n",
    "Title added using html.H1() tag\n",
    "\n",
    "Description added using html.P() tag\n",
    "\n",
    "Chart added using dcc.Graph() tag"
   ]
  },
  {
   "cell_type": "code",
   "execution_count": 2,
   "metadata": {},
   "outputs": [
    {
     "data": {
      "text/html": [
       "\n",
       "        <iframe\n",
       "            width=\"100%\"\n",
       "            height=\"650\"\n",
       "            src=\"http://127.0.0.1:8050/\"\n",
       "            frameborder=\"0\"\n",
       "            allowfullscreen\n",
       "            \n",
       "        ></iframe>\n",
       "        "
      ],
      "text/plain": [
       "<IPython.lib.display.IFrame at 0x15c25e8cfe0>"
      ]
     },
     "metadata": {},
     "output_type": "display_data"
    }
   ],
   "source": [
    "# create the dash appliction\n",
    "app = dash.Dash(__name__)\n",
    "# Get the layout of the application and ajust the outer division, \n",
    "# add title, description and finally graph component\n",
    "\n",
    "app.layout = html.Div(children=[html.H1('Airline Dashboard',\n",
    "                                        style ={'textAlign': 'center', 'color': 'cornsilk', 'font-size': 40}),\n",
    "                                html.P('Proportion of distance group by flights.',\n",
    "                                style= {'textAlign': 'center', 'color': 'powderblue'}),\n",
    "                                dcc.Graph(figure=fig),\n",
    "                                ])\n",
    "\n",
    "# Run the application\n",
    "\n",
    "if __name__ == '__main__':\n",
    "    app.run_server()"
   ]
  }
 ],
 "metadata": {
  "kernelspec": {
   "display_name": "Python 3",
   "language": "python",
   "name": "python3"
  },
  "language_info": {
   "codemirror_mode": {
    "name": "ipython",
    "version": 3
   },
   "file_extension": ".py",
   "mimetype": "text/x-python",
   "name": "python",
   "nbconvert_exporter": "python",
   "pygments_lexer": "ipython3",
   "version": "3.12.6"
  }
 },
 "nbformat": 4,
 "nbformat_minor": 2
}
